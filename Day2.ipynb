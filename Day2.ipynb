{
  "nbformat": 4,
  "nbformat_minor": 0,
  "metadata": {
    "colab": {
      "name": "Day2.ipynb",
      "provenance": [],
      "collapsed_sections": [],
      "authorship_tag": "ABX9TyO2W1uN7Ko9GBlUYS6lzqll",
      "include_colab_link": true
    },
    "kernelspec": {
      "name": "python3",
      "display_name": "Python 3"
    },
    "language_info": {
      "name": "python"
    }
  },
  "cells": [
    {
      "cell_type": "markdown",
      "metadata": {
        "id": "view-in-github",
        "colab_type": "text"
      },
      "source": [
        "<a href=\"https://colab.research.google.com/github/Ramcharan77/2216103_AI-ML_BOOTCAMP/blob/main/Day2.ipynb\" target=\"_parent\"><img src=\"https://colab.research.google.com/assets/colab-badge.svg\" alt=\"Open In Colab\"/></a>"
      ]
    },
    {
      "cell_type": "code",
      "execution_count": 1,
      "metadata": {
        "colab": {
          "base_uri": "https://localhost:8080/"
        },
        "id": "NoeB-WlCeHfG",
        "outputId": "ec451e3e-1175-4dfe-d9ee-1f93070be262"
      },
      "outputs": [
        {
          "output_type": "stream",
          "name": "stdout",
          "text": [
            "true\n",
            "100\n"
          ]
        }
      ],
      "source": [
        "#if statement\n",
        "var=100\n",
        "if var>0:\n",
        "  print(\"true\")\n",
        "  print(var)\n",
        "  "
      ]
    },
    {
      "cell_type": "code",
      "source": [
        "var1=0\n",
        "if var1>0:\n",
        "  print(\"true\")\n",
        "  print(var1)"
      ],
      "metadata": {
        "id": "6NASn5iahYho"
      },
      "execution_count": 2,
      "outputs": []
    },
    {
      "cell_type": "code",
      "source": [
        "#if else statement\n",
        "v=-1\n",
        "if v>0:\n",
        "  print(\"true\")\n",
        "  print(v)\n",
        "else:\n",
        "  print(\"flase\")\n",
        "  print(v)"
      ],
      "metadata": {
        "colab": {
          "base_uri": "https://localhost:8080/"
        },
        "id": "G3xmgOFYhnNE",
        "outputId": "4c26feab-5e02-4a30-af93-373e627cd14d"
      },
      "execution_count": 3,
      "outputs": [
        {
          "output_type": "stream",
          "name": "stdout",
          "text": [
            "flase\n",
            "-1\n"
          ]
        }
      ]
    },
    {
      "cell_type": "code",
      "source": [
        "#nested if statements\n",
        "#bus tickets\n",
        "age=int(input(\"Enter age=\"))\n",
        "if age>12 and age<=18 :\n",
        "  if age<15:\n",
        "    print(\"Quarter ticket \")\n",
        "  elif age==15:\n",
        "    print(\"Quarter ticket + discount\")\n",
        "  else:\n",
        "    print(\"half ticket\")\n",
        "elif age>=19 and age<=60:\n",
        "  print(\"Full ticket\")\n",
        "elif age>60:\n",
        "  print(\"Full ticket + discount\")\n",
        "else:\n",
        "  print(\"No ticket\")"
      ],
      "metadata": {
        "colab": {
          "base_uri": "https://localhost:8080/"
        },
        "id": "jjUBoMcXiKGn",
        "outputId": "2b1f13db-c5f9-4d0c-f4a7-8b8cb5ba2fdf"
      },
      "execution_count": 5,
      "outputs": [
        {
          "output_type": "stream",
          "name": "stdout",
          "text": [
            "Enter age=26\n",
            "Full ticket\n"
          ]
        }
      ]
    },
    {
      "cell_type": "code",
      "source": [
        "#for loop\n",
        "num=[1,3,5,7,9,11,13,15,17,19]\n",
        "sum=0\n",
        "for val in num:\n",
        "  sum+=val;\n",
        "print(\"The sum is =\",sum)\n",
        "print(\"\\n\")\n",
        "for i in range(1,11):\n",
        "  print(i)\n",
        "print(\"\\n\")\n",
        "for i in range(1,11,2):\n",
        "  print(i)\n",
        "\n",
        "print(\"\\n\")\n",
        "x=[1,2,3,4,5,6,7]\n",
        "y=[]\n",
        "for a in x:\n",
        "  if a%2==0:\n",
        "    y.append(a)\n",
        "print(y)"
      ],
      "metadata": {
        "colab": {
          "base_uri": "https://localhost:8080/"
        },
        "id": "CJ7nV75SjrMh",
        "outputId": "3a02c9ff-1a1f-4f06-b6bc-6aeb6ff4148d"
      },
      "execution_count": 14,
      "outputs": [
        {
          "output_type": "stream",
          "name": "stdout",
          "text": [
            "The sum is = 100\n",
            "\n",
            "\n",
            "1\n",
            "2\n",
            "3\n",
            "4\n",
            "5\n",
            "6\n",
            "7\n",
            "8\n",
            "9\n",
            "10\n",
            "\n",
            "\n",
            "1\n",
            "3\n",
            "5\n",
            "7\n",
            "9\n",
            "\n",
            "\n",
            "[2, 4, 6]\n"
          ]
        }
      ]
    },
    {
      "cell_type": "code",
      "source": [
        "# using statements in for loop\n",
        "digit=[0,1,5]\n",
        "for i in digit:\n",
        "  print(i)\n",
        "else:\n",
        "  print(\"no items left\")\n",
        "print(\"\\n\")\n",
        "for l in \"python\":\n",
        "  print(\"current letter :\",l)"
      ],
      "metadata": {
        "colab": {
          "base_uri": "https://localhost:8080/"
        },
        "id": "UFLou-eWlDoV",
        "outputId": "7940fe29-79ba-41ee-c9de-855a4c14781e"
      },
      "execution_count": 16,
      "outputs": [
        {
          "output_type": "stream",
          "name": "stdout",
          "text": [
            "0\n",
            "1\n",
            "5\n",
            "no items left\n",
            "\n",
            "\n",
            "current letter : p\n",
            "current letter : y\n",
            "current letter : t\n",
            "current letter : h\n",
            "current letter : o\n",
            "current letter : n\n"
          ]
        }
      ]
    },
    {
      "cell_type": "code",
      "source": [
        "#iterating by sequence indexing\n",
        "fruit=['apple','banana','grapes']\n",
        "for index in range(len(fruit)):\n",
        "  print(\"current fruit:\",fruit[index])"
      ],
      "metadata": {
        "colab": {
          "base_uri": "https://localhost:8080/"
        },
        "id": "bPXMbTSBmW45",
        "outputId": "aed672a6-9a14-4bd3-80ff-e957e6aedee6"
      },
      "execution_count": 21,
      "outputs": [
        {
          "output_type": "stream",
          "name": "stdout",
          "text": [
            "current fruit: apple\n",
            "current fruit: banana\n",
            "current fruit: grapes\n"
          ]
        }
      ]
    },
    {
      "cell_type": "code",
      "source": [
        "#while\n",
        "i=1\n",
        "while i<=10:\n",
        "  print(i)\n",
        "  i+=1\n",
        "print(\"\\n\")\n",
        "i=0\n",
        "while i<5:\n",
        "  print(i,\"is less then 5\")\n",
        "  i+=1\n",
        "else:\n",
        "  print(i,\"is not less then 5\")"
      ],
      "metadata": {
        "colab": {
          "base_uri": "https://localhost:8080/"
        },
        "id": "rtrFimWVnkXT",
        "outputId": "076d9745-ae3e-461c-b6f9-cafb18442603"
      },
      "execution_count": 25,
      "outputs": [
        {
          "output_type": "stream",
          "name": "stdout",
          "text": [
            "1\n",
            "2\n",
            "3\n",
            "4\n",
            "5\n",
            "6\n",
            "7\n",
            "8\n",
            "9\n",
            "10\n",
            "\n",
            "\n",
            "0 is less then 5\n",
            "1 is less then 5\n",
            "2 is less then 5\n",
            "3 is less then 5\n",
            "4 is less then 5\n",
            "5 is not less then 5\n"
          ]
        }
      ]
    },
    {
      "cell_type": "code",
      "source": [
        "#nested loops\n",
        "print(\"addition\")\n",
        "x=[[12,7,3],\n",
        "   [4,5,6],\n",
        "   [7,8,9]]\n",
        "y=[[5,8,1],[1,1,0],[5,3,7]]\n",
        "res=[[0,0,0],[0,0,0],[0,0,0]]\n",
        "for i in range(len(x)):\n",
        "  for j in range(len(x[0])):\n",
        "    res[i][j]=x[i][j] + y[i][j]\n",
        "for r in res:\n",
        "  print(r)\n",
        "print(\"\\n\")\n",
        "print(\"Subtraction\")\n",
        "res=[[0,0,0],[0,0,0],[0,0,0]]\n",
        "for i in range(len(x)):\n",
        "  for j in range(len(x[0])):\n",
        "    res[i][j]=x[i][j] - y[i][j]\n",
        "for r in res:\n",
        "  print(r)\n",
        "print(\"\\n\")\n",
        "print(\"Multiplication\")\n",
        "res=[[0,0,0],[0,0,0],[0,0,0]]\n",
        "for i in range(len(x)):\n",
        "  for j in range(len(x[0])):\n",
        "    res[i][j]=x[i][j] * y[i][j]\n",
        "for r in res:\n",
        "  print(r)"
      ],
      "metadata": {
        "colab": {
          "base_uri": "https://localhost:8080/"
        },
        "id": "NIIX2kVxp8ww",
        "outputId": "1200993d-0905-4fb5-da0f-bc8ff5fc1b00"
      },
      "execution_count": 38,
      "outputs": [
        {
          "output_type": "stream",
          "name": "stdout",
          "text": [
            "addition\n",
            "[17, 15, 4]\n",
            "[5, 6, 6]\n",
            "[12, 11, 16]\n",
            "\n",
            "\n",
            "Subtraction\n",
            "[7, -1, 2]\n",
            "[3, 4, 6]\n",
            "[2, 5, 2]\n",
            "\n",
            "\n",
            "Multiplication\n",
            "[60, 56, 3]\n",
            "[4, 5, 0]\n",
            "[35, 24, 63]\n"
          ]
        }
      ]
    },
    {
      "cell_type": "code",
      "source": [
        "n1=int(input(\"Enter till which table you want to print\"))\n",
        "i=1\n",
        "while(i<=n1):\n",
        "  print(f\"Table{i}\")\n",
        "  j=1\n",
        "  while(j<=10):\n",
        "    print(f\"{i}*{j}={i*j}\")\n",
        "    j+=1\n",
        "  print(\"________________\")\n",
        "  i+=1"
      ],
      "metadata": {
        "colab": {
          "base_uri": "https://localhost:8080/"
        },
        "id": "9TfirjwlsdS9",
        "outputId": "64f134be-2a0d-48a2-8021-7c1da4c94aa2"
      },
      "execution_count": 40,
      "outputs": [
        {
          "output_type": "stream",
          "name": "stdout",
          "text": [
            "Enter till which table you want to print5\n",
            "Table1\n",
            "1*1=1\n",
            "1*2=2\n",
            "1*3=3\n",
            "1*4=4\n",
            "1*5=5\n",
            "1*6=6\n",
            "1*7=7\n",
            "1*8=8\n",
            "1*9=9\n",
            "1*10=10\n",
            "________________\n",
            "Table2\n",
            "2*1=2\n",
            "2*2=4\n",
            "2*3=6\n",
            "2*4=8\n",
            "2*5=10\n",
            "2*6=12\n",
            "2*7=14\n",
            "2*8=16\n",
            "2*9=18\n",
            "2*10=20\n",
            "________________\n",
            "Table3\n",
            "3*1=3\n",
            "3*2=6\n",
            "3*3=9\n",
            "3*4=12\n",
            "3*5=15\n",
            "3*6=18\n",
            "3*7=21\n",
            "3*8=24\n",
            "3*9=27\n",
            "3*10=30\n",
            "________________\n",
            "Table4\n",
            "4*1=4\n",
            "4*2=8\n",
            "4*3=12\n",
            "4*4=16\n",
            "4*5=20\n",
            "4*6=24\n",
            "4*7=28\n",
            "4*8=32\n",
            "4*9=36\n",
            "4*10=40\n",
            "________________\n",
            "Table5\n",
            "5*1=5\n",
            "5*2=10\n",
            "5*3=15\n",
            "5*4=20\n",
            "5*5=25\n",
            "5*6=30\n",
            "5*7=35\n",
            "5*8=40\n",
            "5*9=45\n",
            "5*10=50\n",
            "________________\n"
          ]
        }
      ]
    },
    {
      "cell_type": "code",
      "source": [
        "#control statements\n",
        "#break\n",
        "for l in 'python':\n",
        "  if l=='h':\n",
        "    break\n",
        "  print(\"current letter:\",l)\n",
        "print(\"\\n\")\n",
        "i=10\n",
        "while(i>0):\n",
        "  print(\"current value:\",i)\n",
        "  i=i-1\n",
        "  if i==5:\n",
        "    break"
      ],
      "metadata": {
        "colab": {
          "base_uri": "https://localhost:8080/"
        },
        "id": "dwfvNHuFuen-",
        "outputId": "eb0694f3-2c1b-4843-c863-2c859f61c483"
      },
      "execution_count": 46,
      "outputs": [
        {
          "output_type": "stream",
          "name": "stdout",
          "text": [
            "current letter: p\n",
            "current letter: y\n",
            "current letter: t\n",
            "\n",
            "\n",
            "current value: 10\n",
            "current value: 9\n",
            "current value: 8\n",
            "current value: 7\n",
            "current value: 6\n"
          ]
        }
      ]
    },
    {
      "cell_type": "code",
      "source": [
        "#continue\n",
        "for l in 'python':\n",
        "  if l=='h':\n",
        "    continue\n",
        "  print(\"current letter:\",l)\n",
        "print(\"\\n\")\n",
        "i=10\n",
        "while(i>0):\n",
        "  print(\"current value:\",i)\n",
        "  i=i-1\n",
        "  if i==5:\n",
        "    continue\n",
        "\n"
      ],
      "metadata": {
        "colab": {
          "base_uri": "https://localhost:8080/"
        },
        "id": "tCWg-xbj3l-u",
        "outputId": "a6bec040-aa29-4092-e0fa-74cc8054c0aa"
      },
      "execution_count": 45,
      "outputs": [
        {
          "output_type": "stream",
          "name": "stdout",
          "text": [
            "current letter: p\n",
            "current letter: y\n",
            "current letter: t\n",
            "current letter: o\n",
            "current letter: n\n",
            "\n",
            "\n",
            "current value: 10\n",
            "current value: 9\n",
            "current value: 8\n",
            "current value: 7\n",
            "current value: 6\n",
            "current value: 5\n",
            "current value: 4\n",
            "current value: 3\n",
            "current value: 2\n",
            "current value: 1\n"
          ]
        }
      ]
    },
    {
      "cell_type": "code",
      "source": [
        "#pass\n",
        "for l in 'python':\n",
        "  if l=='h':\n",
        "    pass\n",
        "  print(\"This is pass block\")\n",
        "  print(\"current letter:\",l)\n",
        "print(\"\\n\")\n",
        "i=10\n",
        "while(i>0):\n",
        "  print(\"current value:\",i)\n",
        "  i=i-1\n",
        "  if i==5:\n",
        "    print(\"This is pass block\")"
      ],
      "metadata": {
        "colab": {
          "base_uri": "https://localhost:8080/"
        },
        "id": "195TyfjP4g_v",
        "outputId": "723f17d7-1a62-4730-d6e2-96896d7f00b0"
      },
      "execution_count": 47,
      "outputs": [
        {
          "output_type": "stream",
          "name": "stdout",
          "text": [
            "This is pass block\n",
            "current letter: p\n",
            "This is pass block\n",
            "current letter: y\n",
            "This is pass block\n",
            "current letter: t\n",
            "This is pass block\n",
            "current letter: h\n",
            "This is pass block\n",
            "current letter: o\n",
            "This is pass block\n",
            "current letter: n\n",
            "\n",
            "\n",
            "current value: 10\n",
            "current value: 9\n",
            "current value: 8\n",
            "current value: 7\n",
            "current value: 6\n",
            "This is pass block\n",
            "current value: 5\n",
            "current value: 4\n",
            "current value: 3\n",
            "current value: 2\n",
            "current value: 1\n"
          ]
        }
      ]
    },
    {
      "cell_type": "code",
      "source": [
        "str1=input(\"Enter a string\")\n",
        "if(str1==str1[::-1]):\n",
        "  print(\"palindrome\")\n",
        "else:\n",
        "  print(\"not a palindrome\")"
      ],
      "metadata": {
        "colab": {
          "base_uri": "https://localhost:8080/"
        },
        "id": "_2ZMoPUE41Wj",
        "outputId": "852427e1-9921-418e-a278-2b65facdb2cf"
      },
      "execution_count": 48,
      "outputs": [
        {
          "output_type": "stream",
          "name": "stdout",
          "text": [
            "Enter a stringmom\n",
            "palinfrome\n"
          ]
        }
      ]
    },
    {
      "cell_type": "code",
      "source": [
        "for i in range(1,101):\n",
        "  str2=str(i)\n",
        "  if(str2==str2[::-1]):\n",
        "    print(i)"
      ],
      "metadata": {
        "colab": {
          "base_uri": "https://localhost:8080/"
        },
        "id": "ezdhl4aS6wL4",
        "outputId": "d57825ad-3e3c-46bb-bf51-60cc0f8faf20"
      },
      "execution_count": 50,
      "outputs": [
        {
          "output_type": "stream",
          "name": "stdout",
          "text": [
            "1\n",
            "2\n",
            "3\n",
            "4\n",
            "5\n",
            "6\n",
            "7\n",
            "8\n",
            "9\n",
            "11\n",
            "22\n",
            "33\n",
            "44\n",
            "55\n",
            "66\n",
            "77\n",
            "88\n",
            "99\n"
          ]
        }
      ]
    },
    {
      "cell_type": "code",
      "source": [
        "l=[1,2,3,4,5,6,7,8,9,10]\n",
        "for i in range(len(l)):\n",
        "  if(l[i]%2==0):\n",
        "    print(l[i])"
      ],
      "metadata": {
        "colab": {
          "base_uri": "https://localhost:8080/"
        },
        "id": "b0F4wTOv8H6L",
        "outputId": "72bd528d-2d16-4548-85e9-3cbe551c9daf"
      },
      "execution_count": 58,
      "outputs": [
        {
          "output_type": "stream",
          "name": "stdout",
          "text": [
            "2\n",
            "4\n",
            "6\n",
            "8\n",
            "10\n"
          ]
        }
      ]
    },
    {
      "cell_type": "markdown",
      "source": [
        "Write a python program that generates desired output i.e, from countries list select out the country names that contain string “and”\n",
        "\n",
        "\n",
        "Countries_list=[“Finland”,”Germany”,”Sweden”,”Ireland”,”Turkey”]\n",
        "\n",
        "Output: [“Finland”,”Ireland”]\n",
        "\n"
      ],
      "metadata": {
        "id": "Xzs5SQ3yAjqP"
      }
    },
    {
      "cell_type": "code",
      "source": [
        "Countries_list=[\"Finland\",\"Germany\",\"Sweden\",\"Ireland\",\"Turkey\"]\n",
        "l=[]\n",
        "for i in Countries_list:\n",
        "  if (\"and\" in i):\n",
        "    l.append(i)\n",
        "print(l)"
      ],
      "metadata": {
        "colab": {
          "base_uri": "https://localhost:8080/"
        },
        "id": "FiCG9u08-TAU",
        "outputId": "5070f395-2a0e-495a-be3d-c7796792629a"
      },
      "execution_count": 63,
      "outputs": [
        {
          "output_type": "stream",
          "name": "stdout",
          "text": [
            "['Finland', 'Ireland']\n"
          ]
        }
      ]
    },
    {
      "cell_type": "markdown",
      "source": [
        "Write a python program that print respective grades of student:Grade – Outstanding  for marks>=90Grade A+ for marks >=80, <90Grade A for marks >=70, <80Grade B for marks >=60 and <70<60 Grade C"
      ],
      "metadata": {
        "id": "DRcxrxJvBeYy"
      }
    },
    {
      "cell_type": "code",
      "source": [
        "marks=int(input(\"Enter your marks=\"))\n",
        "if(marks>=90):\n",
        "  print(\"outstanding\")\n",
        "elif(marks >=80 & marks<90):\n",
        "  print(\"grade A+\")\n",
        "elif( marks >=70and marks<90):\n",
        "  print(\"grade A\")\n",
        "elif( marks >=60and marks<90):\n",
        "  print(\"garde B\")\n",
        "else:\n",
        "  print(\"garde C\")\n"
      ],
      "metadata": {
        "colab": {
          "base_uri": "https://localhost:8080/"
        },
        "id": "siHwlw1DBdXV",
        "outputId": "2681a28a-f680-4174-f331-8ed03efc5a8e"
      },
      "execution_count": 67,
      "outputs": [
        {
          "output_type": "stream",
          "name": "stdout",
          "text": [
            "Enter your marks=99\n",
            "outstanding\n"
          ]
        }
      ]
    },
    {
      "cell_type": "markdown",
      "source": [
        "Create a list with name state list with 5 elements\n",
        "State_list = [“Delhi”,”Telangana”,”Goa”,”AP”,”Kerala”]\n",
        "\n",
        "Write a python program that extract first and last characters of each item and print in desired format.\n",
        "\n",
        "Input: [“Delhi”,”Telangana”,”Goa”,”AP”,”Kerala”]\n",
        "\n",
        "Output: dItAgAaOkA"
      ],
      "metadata": {
        "id": "5_dSyqnEE6P5"
      }
    },
    {
      "cell_type": "code",
      "source": [
        "list1= [\"Delhi\",\"Telangana\",\"Goa\",\"AP\",\"Kerala\"]\n",
        "for i in range(len(list1)):\n",
        "  str33=list1[i][0]\n",
        "  str22=list1[i][-1] \n",
        "  print((str33+str22).swapcase())"
      ],
      "metadata": {
        "colab": {
          "base_uri": "https://localhost:8080/"
        },
        "id": "n8Kf0l9VD7H6",
        "outputId": "ac55d89c-fef8-49c7-dfbc-1b8abe061c73"
      },
      "execution_count": 88,
      "outputs": [
        {
          "output_type": "stream",
          "name": "stdout",
          "text": [
            "dI\n",
            "tA\n",
            "gA\n",
            "ap\n",
            "kA\n"
          ]
        }
      ]
    },
    {
      "cell_type": "code",
      "source": [
        "#user defined functions\n",
        "def greet(name):\n",
        "  '''this function greets a person'''\n",
        "  print(\"Hello,\\t\"+name+\"\\tGood Morning\")\n",
        "greet(\"Ram charan teja\")"
      ],
      "metadata": {
        "colab": {
          "base_uri": "https://localhost:8080/"
        },
        "id": "9hRe-FBTF0qA",
        "outputId": "d261074f-7270-4d36-d973-4c9b0da6629b"
      },
      "execution_count": 91,
      "outputs": [
        {
          "output_type": "stream",
          "name": "stdout",
          "text": [
            "Hello,\tRam charan teja\tGood Morning\n"
          ]
        }
      ]
    },
    {
      "cell_type": "code",
      "source": [
        "#default\n",
        "def A(a,b=1,c=2):\n",
        "  return a+b+c\n",
        "print(A(3))\n",
        "print(A(4,4,4))\n",
        "print(A(2,2))"
      ],
      "metadata": {
        "colab": {
          "base_uri": "https://localhost:8080/"
        },
        "id": "jZs-JGCobWBR",
        "outputId": "1fde01e2-5523-4be3-b0ce-eda74d5dbfd8"
      },
      "execution_count": 92,
      "outputs": [
        {
          "output_type": "stream",
          "name": "stdout",
          "text": [
            "6\n",
            "12\n",
            "6\n"
          ]
        }
      ]
    },
    {
      "cell_type": "code",
      "source": [
        "#keyword\n",
        "def A(a,b=1,c=2):\n",
        "  return a+b+c\n",
        "print(A(a=2,b=3))\n",
        "print(A(c=3,b=2,a=1))"
      ],
      "metadata": {
        "colab": {
          "base_uri": "https://localhost:8080/"
        },
        "id": "PDreq9Mybxj7",
        "outputId": "30ea558f-2d4c-451c-9837-81d6264d6ce1"
      },
      "execution_count": 93,
      "outputs": [
        {
          "output_type": "stream",
          "name": "stdout",
          "text": [
            "7\n",
            "6\n"
          ]
        }
      ]
    },
    {
      "cell_type": "code",
      "source": [
        "#positional\n",
        "def add(a,b,c):\n",
        "  return a+b+c\n",
        "print(add(10,20,30))\n",
        "print(add(10,b=20,c=30))"
      ],
      "metadata": {
        "colab": {
          "base_uri": "https://localhost:8080/"
        },
        "id": "XvapsNmhcTGI",
        "outputId": "1bc0d49f-9c1f-4cf0-ae6b-37c5e6d08898"
      },
      "execution_count": 95,
      "outputs": [
        {
          "output_type": "stream",
          "name": "stdout",
          "text": [
            "60\n",
            "60\n"
          ]
        }
      ]
    },
    {
      "cell_type": "code",
      "source": [
        "#arbitrary keyword\n",
        "def key_arg(**kwargs):\n",
        "  return kwargs\n",
        "dict1=key_arg(Apples=10,oranges=20,grapes=30)\n",
        "print(dict1['Apples'])\n",
        "print(dict1)"
      ],
      "metadata": {
        "colab": {
          "base_uri": "https://localhost:8080/"
        },
        "id": "mpwJ00aAcfX4",
        "outputId": "7b919270-f0e1-4a1f-acfd-c573a37dc410"
      },
      "execution_count": 96,
      "outputs": [
        {
          "output_type": "stream",
          "name": "stdout",
          "text": [
            "10\n",
            "{'Apples': 10, 'oranges': 20, 'grapes': 30}\n"
          ]
        }
      ]
    },
    {
      "cell_type": "code",
      "source": [
        "#arbitrary keyword\n",
        "def add_num(*n):\n",
        "  print(n)\n",
        "  print(sum(n))\n",
        "add_num(5,11)"
      ],
      "metadata": {
        "colab": {
          "base_uri": "https://localhost:8080/",
          "height": 321
        },
        "id": "HX9Ec-0AdSFJ",
        "outputId": "d1d998f4-a9c5-4654-c5dd-2ed4a3e51eb9"
      },
      "execution_count": 99,
      "outputs": [
        {
          "output_type": "stream",
          "name": "stdout",
          "text": [
            "(5, 11)\n"
          ]
        },
        {
          "output_type": "error",
          "ename": "TypeError",
          "evalue": "ignored",
          "traceback": [
            "\u001b[0;31m---------------------------------------------------------------------------\u001b[0m",
            "\u001b[0;31mTypeError\u001b[0m                                 Traceback (most recent call last)",
            "\u001b[0;32m<ipython-input-99-fd58803f278e>\u001b[0m in \u001b[0;36m<module>\u001b[0;34m()\u001b[0m\n\u001b[1;32m      3\u001b[0m   \u001b[0mprint\u001b[0m\u001b[0;34m(\u001b[0m\u001b[0mn\u001b[0m\u001b[0;34m)\u001b[0m\u001b[0;34m\u001b[0m\u001b[0;34m\u001b[0m\u001b[0m\n\u001b[1;32m      4\u001b[0m   \u001b[0mprint\u001b[0m\u001b[0;34m(\u001b[0m\u001b[0msum\u001b[0m\u001b[0;34m(\u001b[0m\u001b[0mn\u001b[0m\u001b[0;34m)\u001b[0m\u001b[0;34m)\u001b[0m\u001b[0;34m\u001b[0m\u001b[0;34m\u001b[0m\u001b[0m\n\u001b[0;32m----> 5\u001b[0;31m \u001b[0madd_num\u001b[0m\u001b[0;34m(\u001b[0m\u001b[0;36m5\u001b[0m\u001b[0;34m,\u001b[0m\u001b[0;36m11\u001b[0m\u001b[0;34m)\u001b[0m\u001b[0;34m\u001b[0m\u001b[0;34m\u001b[0m\u001b[0m\n\u001b[0m",
            "\u001b[0;32m<ipython-input-99-fd58803f278e>\u001b[0m in \u001b[0;36madd_num\u001b[0;34m(*n)\u001b[0m\n\u001b[1;32m      2\u001b[0m \u001b[0;32mdef\u001b[0m \u001b[0madd_num\u001b[0m\u001b[0;34m(\u001b[0m\u001b[0;34m*\u001b[0m\u001b[0mn\u001b[0m\u001b[0;34m)\u001b[0m\u001b[0;34m:\u001b[0m\u001b[0;34m\u001b[0m\u001b[0;34m\u001b[0m\u001b[0m\n\u001b[1;32m      3\u001b[0m   \u001b[0mprint\u001b[0m\u001b[0;34m(\u001b[0m\u001b[0mn\u001b[0m\u001b[0;34m)\u001b[0m\u001b[0;34m\u001b[0m\u001b[0;34m\u001b[0m\u001b[0m\n\u001b[0;32m----> 4\u001b[0;31m   \u001b[0mprint\u001b[0m\u001b[0;34m(\u001b[0m\u001b[0msum\u001b[0m\u001b[0;34m(\u001b[0m\u001b[0mn\u001b[0m\u001b[0;34m)\u001b[0m\u001b[0;34m)\u001b[0m\u001b[0;34m\u001b[0m\u001b[0;34m\u001b[0m\u001b[0m\n\u001b[0m\u001b[1;32m      5\u001b[0m \u001b[0madd_num\u001b[0m\u001b[0;34m(\u001b[0m\u001b[0;36m5\u001b[0m\u001b[0;34m,\u001b[0m\u001b[0;36m11\u001b[0m\u001b[0;34m)\u001b[0m\u001b[0;34m\u001b[0m\u001b[0;34m\u001b[0m\u001b[0m\n",
            "\u001b[0;31mTypeError\u001b[0m: 'int' object is not callable"
          ]
        }
      ]
    },
    {
      "cell_type": "code",
      "source": [
        "#higher order functions\n",
        "def shout(text):\n",
        "  return text.upper()\n",
        "def whisper(text):\n",
        "  return text.lower()\n",
        "def explain(func):\n",
        "  greet=func(\"Hi,i am higher order function\")\n",
        "  print(greet)\n",
        "explain(shout)\n",
        "explain(whisper)"
      ],
      "metadata": {
        "colab": {
          "base_uri": "https://localhost:8080/"
        },
        "id": "qV-giau5dwrn",
        "outputId": "f533092c-e309-43c5-cab9-93c7be354fb4"
      },
      "execution_count": 103,
      "outputs": [
        {
          "output_type": "stream",
          "name": "stdout",
          "text": [
            "HI,I AM HIGHER ORDER FUNCTION\n",
            "hi,i am higher order function\n"
          ]
        }
      ]
    },
    {
      "cell_type": "code",
      "source": [
        "#lambda\n",
        "def incr(x):\n",
        "  x+=1\n",
        "  return x\n",
        "print(incr(4))\n",
        "print((lambda x:x+1)(4))\n",
        "res=lambda x:x+1\n",
        "print(res(4))"
      ],
      "metadata": {
        "colab": {
          "base_uri": "https://localhost:8080/"
        },
        "id": "YW30LlNdflNH",
        "outputId": "1877f5af-0ec7-4267-e296-02b2d2ab961c"
      },
      "execution_count": 105,
      "outputs": [
        {
          "output_type": "stream",
          "name": "stdout",
          "text": [
            "5\n",
            "5\n",
            "5\n"
          ]
        }
      ]
    },
    {
      "cell_type": "code",
      "source": [
        "print((lambda x,y:x**y)(2,2))\n",
        "print((lambda x,y:x+y)(2,3))\n",
        "res=lambda x,y:x*y\n",
        "print(res(2,3))"
      ],
      "metadata": {
        "colab": {
          "base_uri": "https://localhost:8080/"
        },
        "id": "h3RfpbL6fLXZ",
        "outputId": "eddab910-2b3a-4c88-fabc-632dc5ebd336"
      },
      "execution_count": 108,
      "outputs": [
        {
          "output_type": "stream",
          "name": "stdout",
          "text": [
            "4\n",
            "5\n",
            "6\n"
          ]
        }
      ]
    },
    {
      "cell_type": "code",
      "source": [
        "li=[1,2,3,4,5]\n",
        "#res=lambda x:x+2\n",
        "#print(res(li))"
      ],
      "metadata": {
        "colab": {
          "base_uri": "https://localhost:8080/",
          "height": 287
        },
        "id": "GCsc5x1RgNI6",
        "outputId": "29243a57-3d13-4a58-f0d5-5e6b6112830f"
      },
      "execution_count": 109,
      "outputs": [
        {
          "output_type": "error",
          "ename": "TypeError",
          "evalue": "ignored",
          "traceback": [
            "\u001b[0;31m---------------------------------------------------------------------------\u001b[0m",
            "\u001b[0;31mTypeError\u001b[0m                                 Traceback (most recent call last)",
            "\u001b[0;32m<ipython-input-109-a0b093caffe4>\u001b[0m in \u001b[0;36m<module>\u001b[0;34m()\u001b[0m\n\u001b[1;32m      1\u001b[0m \u001b[0mli\u001b[0m\u001b[0;34m=\u001b[0m\u001b[0;34m[\u001b[0m\u001b[0;36m1\u001b[0m\u001b[0;34m,\u001b[0m\u001b[0;36m2\u001b[0m\u001b[0;34m,\u001b[0m\u001b[0;36m3\u001b[0m\u001b[0;34m,\u001b[0m\u001b[0;36m4\u001b[0m\u001b[0;34m,\u001b[0m\u001b[0;36m5\u001b[0m\u001b[0;34m]\u001b[0m\u001b[0;34m\u001b[0m\u001b[0;34m\u001b[0m\u001b[0m\n\u001b[1;32m      2\u001b[0m \u001b[0mres\u001b[0m\u001b[0;34m=\u001b[0m\u001b[0;32mlambda\u001b[0m \u001b[0mx\u001b[0m\u001b[0;34m:\u001b[0m\u001b[0mx\u001b[0m\u001b[0;34m+\u001b[0m\u001b[0;36m2\u001b[0m\u001b[0;34m\u001b[0m\u001b[0;34m\u001b[0m\u001b[0m\n\u001b[0;32m----> 3\u001b[0;31m \u001b[0mprint\u001b[0m\u001b[0;34m(\u001b[0m\u001b[0mres\u001b[0m\u001b[0;34m(\u001b[0m\u001b[0mli\u001b[0m\u001b[0;34m)\u001b[0m\u001b[0;34m)\u001b[0m\u001b[0;34m\u001b[0m\u001b[0;34m\u001b[0m\u001b[0m\n\u001b[0m",
            "\u001b[0;32m<ipython-input-109-a0b093caffe4>\u001b[0m in \u001b[0;36m<lambda>\u001b[0;34m(x)\u001b[0m\n\u001b[1;32m      1\u001b[0m \u001b[0mli\u001b[0m\u001b[0;34m=\u001b[0m\u001b[0;34m[\u001b[0m\u001b[0;36m1\u001b[0m\u001b[0;34m,\u001b[0m\u001b[0;36m2\u001b[0m\u001b[0;34m,\u001b[0m\u001b[0;36m3\u001b[0m\u001b[0;34m,\u001b[0m\u001b[0;36m4\u001b[0m\u001b[0;34m,\u001b[0m\u001b[0;36m5\u001b[0m\u001b[0;34m]\u001b[0m\u001b[0;34m\u001b[0m\u001b[0;34m\u001b[0m\u001b[0m\n\u001b[0;32m----> 2\u001b[0;31m \u001b[0mres\u001b[0m\u001b[0;34m=\u001b[0m\u001b[0;32mlambda\u001b[0m \u001b[0mx\u001b[0m\u001b[0;34m:\u001b[0m\u001b[0mx\u001b[0m\u001b[0;34m+\u001b[0m\u001b[0;36m2\u001b[0m\u001b[0;34m\u001b[0m\u001b[0;34m\u001b[0m\u001b[0m\n\u001b[0m\u001b[1;32m      3\u001b[0m \u001b[0mprint\u001b[0m\u001b[0;34m(\u001b[0m\u001b[0mres\u001b[0m\u001b[0;34m(\u001b[0m\u001b[0mli\u001b[0m\u001b[0;34m)\u001b[0m\u001b[0;34m)\u001b[0m\u001b[0;34m\u001b[0m\u001b[0;34m\u001b[0m\u001b[0m\n",
            "\u001b[0;31mTypeError\u001b[0m: can only concatenate list (not \"int\") to list"
          ]
        }
      ]
    },
    {
      "cell_type": "code",
      "source": [
        "def inc(num):\n",
        "  return num+2\n",
        "res_list=list(map(inc,li))\n",
        "print(res_list)\n",
        "\n",
        "\n",
        "res_list1=list(map(lambda x:x+2,li))\n",
        "print(res_list1)\n",
        "\n",
        "\n",
        "print(list(map(lambda x:x+2,li)))"
      ],
      "metadata": {
        "colab": {
          "base_uri": "https://localhost:8080/"
        },
        "id": "pF_3jwb2hEmF",
        "outputId": "62cf916c-8e63-44d4-98ca-b68257a87a7f"
      },
      "execution_count": 111,
      "outputs": [
        {
          "output_type": "stream",
          "name": "stdout",
          "text": [
            "[3, 4, 5, 6, 7]\n",
            "[3, 4, 5, 6, 7]\n",
            "[3, 4, 5, 6, 7]\n"
          ]
        }
      ]
    },
    {
      "cell_type": "code",
      "source": [
        "def eod(num):\n",
        "  if num%2==0 :\n",
        "    return \"The number {} is even\".format(num)\n",
        "  else :\n",
        "    return \"The number {} is odd\".format(num)\n",
        "eod(20)\n",
        "\n",
        "li1=[1,2,3,4,5,6,7,8,9,10]\n",
        "list(map(eod,li1))"
      ],
      "metadata": {
        "colab": {
          "base_uri": "https://localhost:8080/"
        },
        "id": "JmTnFqythb4X",
        "outputId": "33199c52-ef89-4b5f-ae74-1b71c66f2471"
      },
      "execution_count": 113,
      "outputs": [
        {
          "output_type": "execute_result",
          "data": {
            "text/plain": [
              "['The number 1 is odd',\n",
              " 'The number 2 is even',\n",
              " 'The number 3 is odd',\n",
              " 'The number 4 is even',\n",
              " 'The number 5 is odd',\n",
              " 'The number 6 is even',\n",
              " 'The number 7 is odd',\n",
              " 'The number 8 is even',\n",
              " 'The number 9 is odd',\n",
              " 'The number 10 is even']"
            ]
          },
          "metadata": {},
          "execution_count": 113
        }
      ]
    },
    {
      "cell_type": "code",
      "source": [
        "li2=['apple','banana','grapes']\n",
        "res=list(map(lambda x:x.capitalize(),li2))\n",
        "print(res)"
      ],
      "metadata": {
        "colab": {
          "base_uri": "https://localhost:8080/"
        },
        "id": "VQWyJ5pLiPIl",
        "outputId": "3f65763b-4e77-40c2-815c-0669ca23b1c1"
      },
      "execution_count": 115,
      "outputs": [
        {
          "output_type": "stream",
          "name": "stdout",
          "text": [
            "['Apple', 'Banana', 'Grapes']\n"
          ]
        }
      ]
    },
    {
      "cell_type": "code",
      "source": [
        "#filter\n",
        "def odd_num(n):\n",
        "  if(n%2!=0):\n",
        "    return n\n",
        "li3=[9,26,35,-2,50]\n",
        "print(list(filter(odd_num,li3)))"
      ],
      "metadata": {
        "colab": {
          "base_uri": "https://localhost:8080/"
        },
        "id": "lT1uxy4HjR20",
        "outputId": "59ee5911-af87-4239-ff29-d4f5c773ede3"
      },
      "execution_count": 116,
      "outputs": [
        {
          "output_type": "stream",
          "name": "stdout",
          "text": [
            "[9, 35]\n"
          ]
        }
      ]
    },
    {
      "cell_type": "code",
      "source": [
        "li4=[18,94,33,16,99,22,56,107,34]\n",
        "temp=list(filter(lambda x:x%2==0,li4))\n",
        "print(temp)"
      ],
      "metadata": {
        "colab": {
          "base_uri": "https://localhost:8080/"
        },
        "id": "RlaetCBEkrph",
        "outputId": "7d07b69a-05bb-4ae4-d3da-be84ffc8ab1f"
      },
      "execution_count": 117,
      "outputs": [
        {
          "output_type": "stream",
          "name": "stdout",
          "text": [
            "[18, 94, 16, 22, 56, 34]\n"
          ]
        }
      ]
    },
    {
      "cell_type": "code",
      "source": [
        "#modules\n",
        "import os\n",
        "os.mkdir(\"hi\")\n",
        "os.chdir(\"hi\")\n",
        "os.getcwd()\n",
        "os.listdir()\n",
        "os.rmdir(\"/content/hi\")"
      ],
      "metadata": {
        "colab": {
          "base_uri": "https://localhost:8080/",
          "height": 235
        },
        "id": "rhlI8_4jlRnw",
        "outputId": "b6fce28f-fb36-43c8-dc8c-853bdb93b018"
      },
      "execution_count": 120,
      "outputs": [
        {
          "output_type": "error",
          "ename": "FileExistsError",
          "evalue": "ignored",
          "traceback": [
            "\u001b[0;31m---------------------------------------------------------------------------\u001b[0m",
            "\u001b[0;31mFileExistsError\u001b[0m                           Traceback (most recent call last)",
            "\u001b[0;32m<ipython-input-120-1b5df16f34f3>\u001b[0m in \u001b[0;36m<module>\u001b[0;34m()\u001b[0m\n\u001b[1;32m      1\u001b[0m \u001b[0;31m#modules\u001b[0m\u001b[0;34m\u001b[0m\u001b[0;34m\u001b[0m\u001b[0;34m\u001b[0m\u001b[0m\n\u001b[1;32m      2\u001b[0m \u001b[0;32mimport\u001b[0m \u001b[0mos\u001b[0m\u001b[0;34m\u001b[0m\u001b[0;34m\u001b[0m\u001b[0m\n\u001b[0;32m----> 3\u001b[0;31m \u001b[0mos\u001b[0m\u001b[0;34m.\u001b[0m\u001b[0mmkdir\u001b[0m\u001b[0;34m(\u001b[0m\u001b[0;34m\"hi\"\u001b[0m\u001b[0;34m)\u001b[0m\u001b[0;34m\u001b[0m\u001b[0;34m\u001b[0m\u001b[0m\n\u001b[0m\u001b[1;32m      4\u001b[0m \u001b[0mos\u001b[0m\u001b[0;34m.\u001b[0m\u001b[0mchdir\u001b[0m\u001b[0;34m(\u001b[0m\u001b[0;34m\"hi\"\u001b[0m\u001b[0;34m)\u001b[0m\u001b[0;34m\u001b[0m\u001b[0;34m\u001b[0m\u001b[0m\n\u001b[1;32m      5\u001b[0m \u001b[0mos\u001b[0m\u001b[0;34m.\u001b[0m\u001b[0mgetcwd\u001b[0m\u001b[0;34m(\u001b[0m\u001b[0;34m)\u001b[0m\u001b[0;34m\u001b[0m\u001b[0;34m\u001b[0m\u001b[0m\n",
            "\u001b[0;31mFileExistsError\u001b[0m: [Errno 17] File exists: 'hi'"
          ]
        }
      ]
    },
    {
      "cell_type": "code",
      "source": [
        "#math module\n",
        "import math as m\n",
        "print(m.pi)\n",
        "print(m.e)\n",
        "print(m.sqrt(4))\n",
        "print(m.factorial(5))\n",
        "print(m.pow(2,2))\n",
        "print(m.floor(1.4))\n",
        "print(m.tan(5))\n",
        "print(m.log(2))"
      ],
      "metadata": {
        "colab": {
          "base_uri": "https://localhost:8080/"
        },
        "id": "5bJD9LBrrDqI",
        "outputId": "71f399f1-bede-48dd-8f4e-de96ef59572e"
      },
      "execution_count": 121,
      "outputs": [
        {
          "output_type": "stream",
          "name": "stdout",
          "text": [
            "3.141592653589793\n",
            "2.718281828459045\n",
            "2.0\n",
            "120\n",
            "4.0\n",
            "1\n",
            "-3.380515006246586\n",
            "0.6931471805599453\n"
          ]
        }
      ]
    },
    {
      "cell_type": "code",
      "source": [
        "#sys module\n",
        "import sys\n",
        "print(sys.path)\n",
        "print(sys.version)\n",
        "print(sys.maxsize)"
      ],
      "metadata": {
        "colab": {
          "base_uri": "https://localhost:8080/"
        },
        "id": "v0ZazoG9ruYR",
        "outputId": "99c7239e-3e3d-41fd-a396-2df3f1193746"
      },
      "execution_count": 123,
      "outputs": [
        {
          "output_type": "stream",
          "name": "stdout",
          "text": [
            "['', '/content', '/env/python', '/usr/lib/python37.zip', '/usr/lib/python3.7', '/usr/lib/python3.7/lib-dynload', '/usr/local/lib/python3.7/dist-packages', '/usr/lib/python3/dist-packages', '/usr/local/lib/python3.7/dist-packages/IPython/extensions', '/root/.ipython']\n",
            "3.7.13 (default, Apr 24 2022, 01:04:09) \n",
            "[GCC 7.5.0]\n",
            "9223372036854775807\n"
          ]
        }
      ]
    },
    {
      "cell_type": "code",
      "source": [
        "#statistics module\n",
        "import statistics as st\n",
        "print(st.mean([21,29,34]))\n",
        "print(st.median([1,2,3,4,5]))\n",
        "print(st.mode([1,2,3,1,1]))"
      ],
      "metadata": {
        "colab": {
          "base_uri": "https://localhost:8080/"
        },
        "id": "M5LMJLbSsG7o",
        "outputId": "5f006ece-9748-44a3-87be-aee427df98e2"
      },
      "execution_count": 124,
      "outputs": [
        {
          "output_type": "stream",
          "name": "stdout",
          "text": [
            "28\n",
            "3\n",
            "1\n"
          ]
        }
      ]
    },
    {
      "cell_type": "code",
      "source": [
        "#time module\n",
        "import time\n",
        "print(time.time())\n",
        "print(time.localtime())\n",
        "print(time.asctime())\n",
        "print(time.ctime())\n",
        "print(time.sleep(1.5))"
      ],
      "metadata": {
        "colab": {
          "base_uri": "https://localhost:8080/"
        },
        "id": "M7O12P5ns2cx",
        "outputId": "191d4182-de4d-4b1a-f9d5-8dd2ffcfd86e"
      },
      "execution_count": 125,
      "outputs": [
        {
          "output_type": "stream",
          "name": "stdout",
          "text": [
            "1655201652.4827857\n",
            "time.struct_time(tm_year=2022, tm_mon=6, tm_mday=14, tm_hour=10, tm_min=14, tm_sec=12, tm_wday=1, tm_yday=165, tm_isdst=0)\n",
            "Tue Jun 14 10:14:12 2022\n",
            "Tue Jun 14 10:14:12 2022\n",
            "None\n"
          ]
        }
      ]
    },
    {
      "cell_type": "code",
      "source": [
        "#random module\n",
        "import random  as r\n",
        "print(r.randrange(1,50))\n",
        "print(r.randint(1,100))\n",
        "print(r.random())"
      ],
      "metadata": {
        "colab": {
          "base_uri": "https://localhost:8080/"
        },
        "id": "6WTNzdTXtNys",
        "outputId": "f5c605db-b57c-45ed-e4f1-0931678f4dbf"
      },
      "execution_count": 127,
      "outputs": [
        {
          "output_type": "stream",
          "name": "stdout",
          "text": [
            "38\n",
            "61\n",
            "0.51720061147378\n"
          ]
        }
      ]
    },
    {
      "cell_type": "code",
      "source": [
        "import random as r\n",
        "g_num=r.randint(0,5)\n",
        "g1_num=int(input(\"Enter a number=\"))\n",
        "if g1_num==g_num :\n",
        "  print(\"you won\")\n",
        "else :\n",
        "  print(\"you lost\") "
      ],
      "metadata": {
        "colab": {
          "base_uri": "https://localhost:8080/"
        },
        "id": "98tgW74jthu8",
        "outputId": "4d6e9c17-aa2a-4162-de4f-9bdc96c325b4"
      },
      "execution_count": 129,
      "outputs": [
        {
          "output_type": "stream",
          "name": "stdout",
          "text": [
            "Enter a number=2\n",
            "you lost\n"
          ]
        }
      ]
    },
    {
      "cell_type": "markdown",
      "source": [
        "Write a python program that remove items that are multiples of 5 from list:li=[1,2,5,6,7,10,15,25,65,78,90]o/p: [1,2,6,7,78]\n",
        "\n"
      ],
      "metadata": {
        "id": "df3LaGkp1iKv"
      }
    },
    {
      "cell_type": "code",
      "source": [
        "li=[1,2,5,6,7,10,15,25,65,78,90]\n",
        "res=list(filter(lambda x:x%5!=0,li))\n",
        "print(res)"
      ],
      "metadata": {
        "colab": {
          "base_uri": "https://localhost:8080/"
        },
        "id": "PqFTczqH1L8J",
        "outputId": "2785e800-7720-454e-dee3-1b5ed1d9c383"
      },
      "execution_count": 133,
      "outputs": [
        {
          "output_type": "stream",
          "name": "stdout",
          "text": [
            "[1, 2, 6, 7, 78]\n"
          ]
        }
      ]
    },
    {
      "cell_type": "markdown",
      "source": [
        "Write a python program that generates desired output from fruits list. Filter out the fruits names that don’t start with ‘A’\n",
        "\n",
        "\n",
        "Fruit=[“Apple”,”Banana”,”Pear”,”Avacado”,”Orange”,”Amla”]\n",
        "\n",
        "Output: [“Apple”,”Avacado”,”Amla”]"
      ],
      "metadata": {
        "id": "1huun5Pm5Qnr"
      }
    },
    {
      "cell_type": "code",
      "source": [
        "Fruit=[\"Apple\",\"Banana\",\"Pear\",\"Avacado\",\"Orange\",\"Amla\"]\n",
        "res=list(filter(lambda x:x[0]=='A',Fruit))\n",
        "print(res)"
      ],
      "metadata": {
        "colab": {
          "base_uri": "https://localhost:8080/"
        },
        "id": "Kg_iCrsg1941",
        "outputId": "5d3a0538-3eb7-42d8-fd52-d10dcebfbfc7"
      },
      "execution_count": 136,
      "outputs": [
        {
          "output_type": "stream",
          "name": "stdout",
          "text": [
            "['Apple', 'Avacado', 'Amla']\n"
          ]
        }
      ]
    },
    {
      "cell_type": "markdown",
      "source": [
        "Mssg=”Welcome to gradstellar bootcamp”\n",
        "X=”number of occurrences of ‘o’ in mssg”\n",
        "\n",
        "Y=”number of occurrences of ‘e’ in mssg”\n",
        "\n",
        "Compute (X+Y)2"
      ],
      "metadata": {
        "id": "yiFiA8Vz7t-r"
      }
    },
    {
      "cell_type": "code",
      "source": [
        "Mssg=\"Welcome to gradstellar bootcamp\"\n",
        "x=Mssg.count('o')\n",
        "print(x)\n",
        "y=Mssg.count('e')\n",
        "print(y)\n",
        "print(\"(x+y)^2=\",x*x+y*y+2*x*y)"
      ],
      "metadata": {
        "colab": {
          "base_uri": "https://localhost:8080/"
        },
        "id": "OaMBg-m06is2",
        "outputId": "040d3566-f5b6-44d9-9c0f-6ccaec2e436c"
      },
      "execution_count": 139,
      "outputs": [
        {
          "output_type": "stream",
          "name": "stdout",
          "text": [
            "4\n",
            "3\n",
            "(x+y)^2= 49\n"
          ]
        }
      ]
    },
    {
      "cell_type": "markdown",
      "source": [
        "Write python program that filters a list by removing the elements that not start with vowel.\n",
        "I/P: [‘apple’,’orange’,’grapes’,’ball’,’bat’,’umbrella’]\n",
        "\n",
        "O/P: [‘apple’,’orange’,’umbrella’]"
      ],
      "metadata": {
        "id": "qV2aYB3Z86Fq"
      }
    },
    {
      "cell_type": "code",
      "source": [
        "list22=[\"apple\",\"orange\",\"grapes\",\"ball\",\"bat\",\"umbrella\"]\n",
        "res=list(filter(lambda x:x[0] in 'AEIOUaeiou',list22))\n",
        "print(res)"
      ],
      "metadata": {
        "colab": {
          "base_uri": "https://localhost:8080/"
        },
        "id": "okxJ0lE486tG",
        "outputId": "92e2198e-66ce-457e-f0de-cb9b09181ae4"
      },
      "execution_count": 144,
      "outputs": [
        {
          "output_type": "stream",
          "name": "stdout",
          "text": [
            "['apple', 'orange', 'umbrella']\n"
          ]
        }
      ]
    },
    {
      "cell_type": "markdown",
      "source": [
        "Write a python program that displays unique element in a given list using function\n",
        "Li=[56,78,32,45,45,45,19,20]\n",
        "\n",
        "O/P: [56,78,32,45,19,20]"
      ],
      "metadata": {
        "id": "Fs0KS6Zz-6oX"
      }
    },
    {
      "cell_type": "code",
      "source": [
        "Li23=[56,78,32,45,45,45,19,20]\n",
        "def dup(d):\n",
        "  n=[]\n",
        "  for i in d:\n",
        "    if i not in n:\n",
        "      n.append(i)\n",
        "  return n\n",
        "dup(Li23) \n"
      ],
      "metadata": {
        "colab": {
          "base_uri": "https://localhost:8080/"
        },
        "id": "iYJpZsCH_AM3",
        "outputId": "05786486-a711-4885-c0b8-6c543716d501"
      },
      "execution_count": 153,
      "outputs": [
        {
          "output_type": "execute_result",
          "data": {
            "text/plain": [
              "[56, 78, 32, 45, 19, 20]"
            ]
          },
          "metadata": {},
          "execution_count": 153
        }
      ]
    }
  ]
}