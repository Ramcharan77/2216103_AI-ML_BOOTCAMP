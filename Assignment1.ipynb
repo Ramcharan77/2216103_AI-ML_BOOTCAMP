{
  "nbformat": 4,
  "nbformat_minor": 0,
  "metadata": {
    "colab": {
      "name": "Assignment1.ipynb",
      "provenance": [],
      "authorship_tag": "ABX9TyNx61oIl4qwK0GNqtFq3qTq",
      "include_colab_link": true
    },
    "kernelspec": {
      "name": "python3",
      "display_name": "Python 3"
    },
    "language_info": {
      "name": "python"
    }
  },
  "cells": [
    {
      "cell_type": "markdown",
      "metadata": {
        "id": "view-in-github",
        "colab_type": "text"
      },
      "source": [
        "<a href=\"https://colab.research.google.com/github/Ramcharan77/2216103_AI-ML_BOOTCAMP/blob/main/Assignment1.ipynb\" target=\"_parent\"><img src=\"https://colab.research.google.com/assets/colab-badge.svg\" alt=\"Open In Colab\"/></a>"
      ]
    },
    {
      "cell_type": "markdown",
      "source": [
        "Q1)Implement the methods of String with examples."
      ],
      "metadata": {
        "id": "aPQby_P48k_3"
      }
    },
    {
      "cell_type": "code",
      "source": [
        "s='hello'\n",
        "#indexing\n",
        "print(s[-1])\n",
        "print(s[2])\n",
        "#slicing \n",
        "print(s[:])\n",
        "#strip()\n",
        "s1='   ramcharanteja  '\n",
        "print(s1.strip())\n",
        "print(s1.lstrip()) #left strip\n",
        "print(s1.rstrip()) #right strip\n",
        "s2='welcome'\n",
        "print(s2.upper()) \n",
        "print(s2.lower())\n",
        "print(s2.capitalize()) \n",
        "print(s2.swapcase())\n",
        "print(s2.title())"
      ],
      "metadata": {
        "colab": {
          "base_uri": "https://localhost:8080/"
        },
        "id": "vFOm7nOjOprO",
        "outputId": "8c6a9331-af26-4122-ebb2-4e5ae651419e"
      },
      "execution_count": 122,
      "outputs": [
        {
          "output_type": "stream",
          "name": "stdout",
          "text": [
            "o\n",
            "l\n",
            "hello\n",
            "ramcharanteja\n",
            "ramcharanteja  \n",
            "   ramcharanteja\n",
            "WELCOME\n",
            "welcome\n",
            "Welcome\n",
            "WELCOME\n",
            "Welcome\n"
          ]
        }
      ]
    },
    {
      "cell_type": "markdown",
      "source": [
        "Q2) Implement the methods of List with examples."
      ],
      "metadata": {
        "id": "O8-GLhZXRJq0"
      }
    },
    {
      "cell_type": "code",
      "source": [
        "l=[1,3,2,4]\n",
        "print(l)\n",
        "print(len(l))\n",
        "l.append('hello')\n",
        "print(l)\n",
        "l.extend([5,6,7])\n",
        "print(l)\n",
        "l.insert(4,5)\n",
        "print(l)\n",
        "l.pop(5)\n",
        "print(l)\n",
        "l.remove(7)\n",
        "print(l)\n",
        "l.reverse()\n",
        "print(l)\n",
        "l.sort()\n",
        "print(l)\n",
        "l.clear()\n",
        "print(l)"
      ],
      "metadata": {
        "colab": {
          "base_uri": "https://localhost:8080/"
        },
        "id": "G7gbSpegRRmZ",
        "outputId": "ea96593b-2c6b-411b-bfe7-cd1184b2e8fb"
      },
      "execution_count": 123,
      "outputs": [
        {
          "output_type": "stream",
          "name": "stdout",
          "text": [
            "[1, 3, 2, 4]\n",
            "4\n",
            "[1, 3, 2, 4, 'hello']\n",
            "[1, 3, 2, 4, 'hello', 5, 6, 7]\n",
            "[1, 3, 2, 4, 5, 'hello', 5, 6, 7]\n",
            "[1, 3, 2, 4, 5, 5, 6, 7]\n",
            "[1, 3, 2, 4, 5, 5, 6]\n",
            "[6, 5, 5, 4, 2, 3, 1]\n",
            "[1, 2, 3, 4, 5, 5, 6]\n",
            "[]\n"
          ]
        }
      ]
    },
    {
      "cell_type": "markdown",
      "source": [
        "Q3)Implement the methods of Tuple with examples"
      ],
      "metadata": {
        "id": "xs4OCCyuTi_a"
      }
    },
    {
      "cell_type": "code",
      "source": [
        "t=('ram','charan','teja',26,99)\n",
        "print(t)\n",
        "print(len(t))\n",
        "t1=(10,20,30,99,30,30)\n",
        "#indexing\n",
        "print(t1[0])\n",
        "print(t1[-1])\n",
        "#slicing \n",
        "print(t1[1:3])\n",
        "print(max(t1))\n",
        "print(min(t1))\n",
        "print(t1.index(99))\n",
        "print(t1.count(30))\n"
      ],
      "metadata": {
        "colab": {
          "base_uri": "https://localhost:8080/"
        },
        "id": "4GxbFq31TrCH",
        "outputId": "d26947a2-6327-4f90-b1fc-c3429487b45b"
      },
      "execution_count": 124,
      "outputs": [
        {
          "output_type": "stream",
          "name": "stdout",
          "text": [
            "('ram', 'charan', 'teja', 26, 99)\n",
            "5\n",
            "10\n",
            "30\n",
            "(20, 30)\n",
            "99\n",
            "10\n",
            "3\n",
            "3\n"
          ]
        }
      ]
    },
    {
      "cell_type": "markdown",
      "source": [
        "Q4) Implement the methods of Dictionary with examples."
      ],
      "metadata": {
        "id": "Lh2h_iEgVJi4"
      }
    },
    {
      "cell_type": "code",
      "source": [
        "d={1:1,2:4,3:9,4:16,5:25,'name':'ram','roll':26,'address':'hnk'}\n",
        "print(d)\n",
        "print(d.items())\n",
        "print(d.popitem())\n",
        "print(d.keys())\n",
        "print(d.values())\n",
        "print(d.get('name'))"
      ],
      "metadata": {
        "colab": {
          "base_uri": "https://localhost:8080/"
        },
        "id": "eBG27NxuUH6O",
        "outputId": "d9c48396-800a-449f-c096-1d235922840c"
      },
      "execution_count": 125,
      "outputs": [
        {
          "output_type": "stream",
          "name": "stdout",
          "text": [
            "{1: 1, 2: 4, 3: 9, 4: 16, 5: 25, 'name': 'ram', 'roll': 26, 'address': 'hnk'}\n",
            "dict_items([(1, 1), (2, 4), (3, 9), (4, 16), (5, 25), ('name', 'ram'), ('roll', 26), ('address', 'hnk')])\n",
            "('address', 'hnk')\n",
            "dict_keys([1, 2, 3, 4, 5, 'name', 'roll'])\n",
            "dict_values([1, 4, 9, 16, 25, 'ram', 26])\n",
            "ram\n"
          ]
        }
      ]
    },
    {
      "cell_type": "markdown",
      "source": [
        "Q5) Implement the methods of Set with examples.\n"
      ],
      "metadata": {
        "id": "KKl9QW9qW3g-"
      }
    },
    {
      "cell_type": "code",
      "source": [
        "s={1,2,3,4,5}\n",
        "s.add(6)\n",
        "print(s)\n",
        "s.update([6,7,8])\n",
        "print(s)\n",
        "s.remove(5)\n",
        "print(s)\n",
        "s.discard(4)\n",
        "print(s)\n",
        "s1={4,5,1,2,9,10}\n",
        "#union\n",
        "print(s|s1)\n",
        "print(s.union(s1))\n",
        "print(s1.union(s))\n",
        "#intersection\n",
        "print(s&s1)\n",
        "print(s.intersection(s1))\n",
        "print(s1.intersection(s))\n",
        "#difference\n",
        "print(s-s1)\n",
        "print(s.difference(s1))"
      ],
      "metadata": {
        "colab": {
          "base_uri": "https://localhost:8080/"
        },
        "id": "AQEpVECeWdXc",
        "outputId": "fbc23f16-d17c-4600-f435-2b7f37a59391"
      },
      "execution_count": 126,
      "outputs": [
        {
          "output_type": "stream",
          "name": "stdout",
          "text": [
            "{1, 2, 3, 4, 5, 6}\n",
            "{1, 2, 3, 4, 5, 6, 7, 8}\n",
            "{1, 2, 3, 4, 6, 7, 8}\n",
            "{1, 2, 3, 6, 7, 8}\n",
            "{1, 2, 3, 4, 5, 6, 7, 8, 9, 10}\n",
            "{1, 2, 3, 4, 5, 6, 7, 8, 9, 10}\n",
            "{1, 2, 3, 4, 5, 6, 7, 8, 9, 10}\n",
            "{1, 2}\n",
            "{1, 2}\n",
            "{1, 2}\n",
            "{8, 3, 6, 7}\n",
            "{8, 3, 6, 7}\n"
          ]
        }
      ]
    },
    {
      "cell_type": "markdown",
      "source": [
        "Q6)Write a python program to convert Decimal to Binary, Octal and Hexadecimal with \n",
        "direct method."
      ],
      "metadata": {
        "id": "Epq4nATmYxa9"
      }
    },
    {
      "cell_type": "code",
      "source": [
        "num=int(input(\"Enter a number=\"))\n",
        "print(bin(num))\n",
        "print(oct(num))\n",
        "print(hex(num))"
      ],
      "metadata": {
        "colab": {
          "base_uri": "https://localhost:8080/"
        },
        "id": "RqY3Z92KXUMx",
        "outputId": "924881ef-8e95-4e7e-ea50-33a69c8311dd"
      },
      "execution_count": 128,
      "outputs": [
        {
          "output_type": "stream",
          "name": "stdout",
          "text": [
            "Enter a number=15\n",
            "0b1111\n",
            "0o17\n",
            "0xf\n"
          ]
        }
      ]
    },
    {
      "cell_type": "markdown",
      "source": [
        "Q7) Implement Arithmetic operators with examples"
      ],
      "metadata": {
        "id": "S0JcK2KgZ7H3"
      }
    },
    {
      "cell_type": "code",
      "source": [
        "a=int(input(\"Enter a number=\"))\n",
        "b=int(input(\"Enter a number=\"))\n",
        "print(a+b)\n",
        "print(abs(a-b))\n",
        "print(a*b)\n",
        "print(a/b)\n",
        "print(a%b)\n",
        "print(a**b)\n",
        "print(a//b)"
      ],
      "metadata": {
        "colab": {
          "base_uri": "https://localhost:8080/"
        },
        "id": "KLVMNMoTZjYx",
        "outputId": "3033e0b8-e93b-4384-fe97-f327c048e492"
      },
      "execution_count": 129,
      "outputs": [
        {
          "output_type": "stream",
          "name": "stdout",
          "text": [
            "Enter a number=4\n",
            "Enter a number=2\n",
            "6\n",
            "2\n",
            "8\n",
            "2.0\n",
            "0\n",
            "16\n",
            "2\n"
          ]
        }
      ]
    },
    {
      "cell_type": "markdown",
      "source": [
        "Q8) Implement Assignment operators with examples."
      ],
      "metadata": {
        "id": "PC2ywGvta7Ky"
      }
    },
    {
      "cell_type": "code",
      "source": [
        "x=5\n",
        "y=15\n",
        "print(x)\n",
        "x+=3\n",
        "print(x)\n",
        "x-=3\n",
        "print(x)\n",
        "x*=3\n",
        "print(x)\n",
        "x/=3\n",
        "print(x)\n",
        "x%=3\n",
        "print(x)\n",
        "y//=3\n",
        "print(y)\n",
        "y**=3\n",
        "print(y)"
      ],
      "metadata": {
        "colab": {
          "base_uri": "https://localhost:8080/"
        },
        "id": "yixkOkTua2_K",
        "outputId": "d27e2cfe-594a-4f87-be2e-e2ccce411d11"
      },
      "execution_count": 130,
      "outputs": [
        {
          "output_type": "stream",
          "name": "stdout",
          "text": [
            "5\n",
            "8\n",
            "5\n",
            "15\n",
            "5.0\n",
            "2.0\n",
            "5\n",
            "125\n"
          ]
        }
      ]
    },
    {
      "cell_type": "markdown",
      "source": [
        "Q9) Implement Comparison operators with examples."
      ],
      "metadata": {
        "id": "CQnfdi8-hNnX"
      }
    },
    {
      "cell_type": "code",
      "source": [
        "x1=10\n",
        "y1=20\n",
        "print(x1==y1)\n",
        "print(x1!=y1)\n",
        "print(x1>y1)\n",
        "print(x1<y1)\n",
        "print(x1>=y1)\n",
        "print(x1<=y1)"
      ],
      "metadata": {
        "colab": {
          "base_uri": "https://localhost:8080/"
        },
        "id": "jIzj4ckKbdJR",
        "outputId": "ef197385-b642-40df-f43d-f17dbf24c8f2"
      },
      "execution_count": 131,
      "outputs": [
        {
          "output_type": "stream",
          "name": "stdout",
          "text": [
            "False\n",
            "True\n",
            "False\n",
            "True\n",
            "False\n",
            "True\n"
          ]
        }
      ]
    },
    {
      "cell_type": "markdown",
      "source": [
        "Q10) Implement Logical operators with examples."
      ],
      "metadata": {
        "id": "dmZO14hEh9zF"
      }
    },
    {
      "cell_type": "code",
      "source": [
        "a1=10\n",
        "b1=5\n",
        "print(a1==5 and b1==10)\n",
        "print(a1==10 or b1==5)\n",
        "print(not a1==b1)"
      ],
      "metadata": {
        "colab": {
          "base_uri": "https://localhost:8080/"
        },
        "id": "gWPqmrvuhzKg",
        "outputId": "19af8363-e5ce-49b2-9196-5ae9baee4697"
      },
      "execution_count": 132,
      "outputs": [
        {
          "output_type": "stream",
          "name": "stdout",
          "text": [
            "False\n",
            "True\n",
            "True\n"
          ]
        }
      ]
    },
    {
      "cell_type": "markdown",
      "source": [
        "Q11)Implement Bitwise operators with examples"
      ],
      "metadata": {
        "id": "SRhgnZ2ZksxZ"
      }
    },
    {
      "cell_type": "code",
      "source": [
        "c=1\n",
        "d=2\n",
        "print(c==19 & d==25)\n",
        "print(c&d)\n",
        "print(c==25|d==20)\n",
        "print(c&d)\n",
        "print(c^d)\n",
        "print(~c)\n",
        "print(c>>2)\n",
        "print(d<<2)"
      ],
      "metadata": {
        "colab": {
          "base_uri": "https://localhost:8080/"
        },
        "id": "cZ41dsplkGNK",
        "outputId": "1dd1f6df-4afc-4117-96f2-c20df7188cd6"
      },
      "execution_count": 133,
      "outputs": [
        {
          "output_type": "stream",
          "name": "stdout",
          "text": [
            "False\n",
            "0\n",
            "False\n",
            "0\n",
            "3\n",
            "-2\n",
            "0\n",
            "8\n"
          ]
        }
      ]
    },
    {
      "cell_type": "markdown",
      "source": [
        "Q12)Implement Membership operators with examples."
      ],
      "metadata": {
        "id": "zITje2clnHTF"
      }
    },
    {
      "cell_type": "code",
      "source": [
        "str1=\"hello world\"\n",
        "print('h' in str1)\n",
        "print('a' in str1)\n",
        "print(\"llo\" in str1)\n",
        "print('h' not in str1)\n",
        "print('a' not in str1)\n",
        "print(\"llo\" not in str1)"
      ],
      "metadata": {
        "colab": {
          "base_uri": "https://localhost:8080/"
        },
        "id": "j__MUVLimBkj",
        "outputId": "9161a294-8c0c-4a8f-f183-53583d816cc0"
      },
      "execution_count": 134,
      "outputs": [
        {
          "output_type": "stream",
          "name": "stdout",
          "text": [
            "True\n",
            "False\n",
            "True\n",
            "False\n",
            "True\n",
            "False\n"
          ]
        }
      ]
    },
    {
      "cell_type": "markdown",
      "source": [
        "Q13)Implement Identity operators with examples\n"
      ],
      "metadata": {
        "id": "4BY7WyIqoAa_"
      }
    },
    {
      "cell_type": "code",
      "source": [
        "e=10\n",
        "f='10'\n",
        "print(e is f)\n",
        "print(e is not f)"
      ],
      "metadata": {
        "colab": {
          "base_uri": "https://localhost:8080/"
        },
        "id": "GkoqsKdbnohA",
        "outputId": "e1d95f78-9b60-4393-f5f7-fc85d353d4dc"
      },
      "execution_count": 135,
      "outputs": [
        {
          "output_type": "stream",
          "name": "stdout",
          "text": [
            "False\n",
            "True\n"
          ]
        }
      ]
    },
    {
      "cell_type": "markdown",
      "source": [
        "Q14)Demonstrate Negative indexing for List and apply slicing.\n"
      ],
      "metadata": {
        "id": "9XXMiKkFqKAl"
      }
    },
    {
      "cell_type": "code",
      "source": [
        "l1=[1,2,3,4,5,36,99,'hello']\n",
        "# negative indexing\n",
        "print(l1[-1])\n",
        "print(l1[-8])\n",
        "print(l1[-3])\n",
        "#slicing\n",
        "print(l1[1:])\n",
        "print(l1[:])\n",
        "print(l1[::-1])"
      ],
      "metadata": {
        "colab": {
          "base_uri": "https://localhost:8080/"
        },
        "id": "InsPLfCyoflz",
        "outputId": "b56f5cd8-7204-4857-a9e9-b7b9129a5700"
      },
      "execution_count": 136,
      "outputs": [
        {
          "output_type": "stream",
          "name": "stdout",
          "text": [
            "hello\n",
            "1\n",
            "36\n",
            "[2, 3, 4, 5, 36, 99, 'hello']\n",
            "[1, 2, 3, 4, 5, 36, 99, 'hello']\n",
            "['hello', 99, 36, 5, 4, 3, 2, 1]\n"
          ]
        }
      ]
    },
    {
      "cell_type": "markdown",
      "source": [
        "Q15)Predict the output for the given code snippet and justify the result."
      ],
      "metadata": {
        "id": "Pti1DH-Yr3K8"
      }
    },
    {
      "cell_type": "code",
      "source": [
        "print( 'A series of characters designated as one object known as a string'[::-1][4::3] )\n",
        "#[::-1] it is for reversing and [4::3] it starts from 4 th index with step size as 3\n",
        "print(\"------------\")\n",
        "print( 'welcome to Python traing program'[3:10][::-1])\n",
        "#[3:10] it starts from 3 rd index and stops at 10 th index and the it will reverse the string "
      ],
      "metadata": {
        "colab": {
          "base_uri": "https://localhost:8080/"
        },
        "id": "_hiyk2Q3rav-",
        "outputId": "d7a7e5a5-b881-4f4f-ee7e-b9abdb5c39ab"
      },
      "execution_count": 138,
      "outputs": [
        {
          "output_type": "stream",
          "name": "stdout",
          "text": [
            "taawkcbe  tgestrcoeeA\n",
            "------------\n",
            "ot emoc\n"
          ]
        }
      ]
    },
    {
      "cell_type": "markdown",
      "source": [
        "Q16)Write a python code to get desired output;\n",
        "Input string : p_phrase = \"was it a car or a cat I saw\";\n",
        "Output string : WAS I TAC A RO RAC A TI SAW"
      ],
      "metadata": {
        "id": "rDME5kuAvbHR"
      }
    },
    {
      "cell_type": "code",
      "source": [
        "p_phrase=\"was it a car or a cat I saw\"\n",
        "str22=p_phrase.upper()\n",
        "print(str22[::-1])"
      ],
      "metadata": {
        "colab": {
          "base_uri": "https://localhost:8080/"
        },
        "id": "dqoxoqpMsfPo",
        "outputId": "c19e4cd8-7cd2-4810-9358-c23a440a6c33"
      },
      "execution_count": 139,
      "outputs": [
        {
          "output_type": "stream",
          "name": "stdout",
          "text": [
            "WAS I TAC A RO RAC A TI SAW\n"
          ]
        }
      ]
    },
    {
      "cell_type": "markdown",
      "source": [
        "Q17). You are required to generate a word similar to ZOO, X and Y that denote the number \n",
        "of Zs and Os respectively. The generated word similar to ZOO where Y= 2 * X. \n",
        " Input X= 2 Output ZZOOOO \n",
        " Input X= 5 Output ZZZZZOOOOOOOOOO"
      ],
      "metadata": {
        "id": "Yd5zDT5GyLjK"
      }
    },
    {
      "cell_type": "code",
      "source": [
        "x=int(input(\"Enter a number=\"))\n",
        "y=2*x\n",
        "print('x=',x)\n",
        "print('y=',y)\n",
        "print('Z'*x,'O'*y,sep='')"
      ],
      "metadata": {
        "colab": {
          "base_uri": "https://localhost:8080/"
        },
        "id": "n3y-Skq40aAw",
        "outputId": "dc93b0e2-053e-4b7f-d0d4-883d3caa0c3a"
      },
      "execution_count": 140,
      "outputs": [
        {
          "output_type": "stream",
          "name": "stdout",
          "text": [
            "Enter a number=5\n",
            "x= 5\n",
            "y= 10\n",
            "ZZZZZOOOOOOOOOO\n"
          ]
        }
      ]
    }
  ]
}